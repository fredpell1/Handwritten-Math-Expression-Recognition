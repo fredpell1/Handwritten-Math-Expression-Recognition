{
 "cells": [
  {
   "cell_type": "markdown",
   "metadata": {},
   "source": [
    "# Notebook to showcase how to use the model\n",
    "\n",
    "## CLEAR OUTPUT OF THE NOTEBOOK BEFORE COMMITING/PUSHING\n",
    "\n",
    "The path may not work for you as they are hardcoded for a sample of the data on my machine"
   ]
  },
  {
   "cell_type": "code",
   "execution_count": 17,
   "metadata": {},
   "outputs": [],
   "source": [
    "import torch\n",
    "from torchvision.io import read_image\n",
    "import torchvision.transforms as T\n",
    "from cnn import CNN\n",
    "from encoder import Encoder\n",
    "import os\n",
    "import csv"
   ]
  },
  {
   "cell_type": "code",
   "execution_count": 18,
   "metadata": {},
   "outputs": [],
   "source": [
    "FOLDER_PATH = '../../data/CROHME2016_data/data_png/subset/'"
   ]
  },
  {
   "cell_type": "code",
   "execution_count": 19,
   "metadata": {},
   "outputs": [],
   "source": [
    "#loading the images in one tensor\n",
    "batch = torch.zeros((11,1,304,304))\n",
    "tree = next(os.walk(FOLDER_PATH))\n",
    "for i,file in enumerate(tree[-1]):\n",
    "    if file.endswith('png'):\n",
    "        pic = read_image(f\"{FOLDER_PATH}/{file}\").to(torch.float32)\n",
    "        batch[i] += pic"
   ]
  },
  {
   "cell_type": "code",
   "execution_count": 20,
   "metadata": {},
   "outputs": [],
   "source": [
    "#load the labels in a dictionary\n",
    "labels = dict()\n",
    "with open(f\"{FOLDER_PATH}iso_GT.txt\") as f:\n",
    "    reader = csv.reader(f)\n",
    "    for row in reader:\n",
    "        labels[row[0]] = row[1]"
   ]
  },
  {
   "cell_type": "code",
   "execution_count": 24,
   "metadata": {},
   "outputs": [],
   "source": [
    "net = CNN()\n",
    "encoder = Encoder(512, 256, 27*24, 11)\n",
    "out = net(batch)\n",
    "o, h = encoder(out)"
   ]
  },
  {
   "cell_type": "code",
   "execution_count": 25,
   "metadata": {},
   "outputs": [],
   "source": [
    "img = o.reshape((27,24, 11))[:,:,0]"
   ]
  },
  {
   "cell_type": "code",
   "execution_count": 26,
   "metadata": {},
   "outputs": [
    {
     "data": {
      "text/plain": [
       "<matplotlib.image.AxesImage at 0x23062556880>"
      ]
     },
     "execution_count": 26,
     "metadata": {},
     "output_type": "execute_result"
    },
    {
     "data": {
      "image/png": "[encoded data removed]",
      "text/plain": [
       "<Figure size 640x480 with 1 Axes>"
      ]
     },
     "metadata": {},
     "output_type": "display_data"
    }
   ],
   "source": [
    "import matplotlib.pyplot as plt\n",
    "#example of the feature grid F' for the first image\n",
    "plt.imshow(img.detach().numpy(), origin='lower')"
   ]
  }
 ],
 "metadata": {
  "kernelspec": {
   "display_name": "Python 3.9.5 ('.venv': venv)",
   "language": "python",
   "name": "python3"
  },
  "language_info": {
   "codemirror_mode": {
    "name": "ipython",
    "version": 3
   },
   "file_extension": ".py",
   "mimetype": "text/x-python",
   "name": "python",
   "nbconvert_exporter": "python",
   "pygments_lexer": "ipython3",
   "version": "3.9.5"
  },
  "orig_nbformat": 4,
  "vscode": {
   "interpreter": {
    "hash": "6b50a1d762d4853fe27a86530a9bcdf85f59f22d585aca88e4f703f55ce46be5"
   }
  }
 },
 "nbformat": 4,
 "nbformat_minor": 2
}
