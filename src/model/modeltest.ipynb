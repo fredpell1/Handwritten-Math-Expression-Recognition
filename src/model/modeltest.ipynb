{
 "cells": [
  {
   "cell_type": "markdown",
   "metadata": {},
   "source": [
    "# Notebook to showcase how to use the model\n",
    "\n",
    "## CLEAR OUTPUT OF THE NOTEBOOK BEFORE COMMITING/PUSHING\n",
    "\n",
    "The path may not work for you as they are hardcoded for a sample of the data on my machine"
   ]
  },
  {
   "cell_type": "code",
   "execution_count": null,
   "metadata": {},
   "outputs": [],
   "source": [
    "import torch\n",
    "from torchvision.io import read_image\n",
    "import torchvision.transforms as T\n",
    "from cnn import CNN\n",
    "from encoder import Encoder\n",
    "from decoder import Decoder\n",
    "import os\n",
    "import csv\n",
    "import re"
   ]
  },
  {
   "cell_type": "code",
   "execution_count": null,
   "metadata": {},
   "outputs": [],
   "source": [
    "FOLDER_PATH = '../../data/CROHME2016_data/data_png/subset/'"
   ]
  },
  {
   "cell_type": "code",
   "execution_count": null,
   "metadata": {},
   "outputs": [],
   "source": [
    "def sort_files(file):\n",
    "    \"\"\"Utility function to sort the file names according to their number\"\"\"\n",
    "    match = re.match(r'\\D*(?P<num>\\d+)\\..*', file)\n",
    "    if match:\n",
    "        return int(match.group('num'))   "
   ]
  },
  {
   "cell_type": "code",
   "execution_count": null,
   "metadata": {},
   "outputs": [],
   "source": [
    "#loading the images in one tensor\n",
    "batch = torch.zeros((11,1,304,304))\n",
    "tree = next(os.walk(FOLDER_PATH))\n",
    "files = [file for file in tree[-1] if file.endswith('png')]\n",
    "files.sort(key=sort_files)\n",
    "for i,file in enumerate(files):\n",
    "    pic = read_image(f\"{FOLDER_PATH}/{file}\").to(torch.float32)\n",
    "    batch[i] += pic"
   ]
  },
  {
   "cell_type": "code",
   "execution_count": null,
   "metadata": {},
   "outputs": [],
   "source": [
    "#load the labels in a dictionary\n",
    "labels = dict()\n",
    "with open(f\"{FOLDER_PATH}iso_GT.txt\") as f:\n",
    "    reader = csv.reader(f)\n",
    "    for row in reader:\n",
    "        labels[row[0]] = row[1]"
   ]
  },
  {
   "cell_type": "markdown",
   "metadata": {},
   "source": [
    "## Word embedding"
   ]
  },
  {
   "cell_type": "code",
   "execution_count": null,
   "metadata": {},
   "outputs": [],
   "source": [
    "#Below code is from https://pytorch.org/tutorials/intermediate/seq2seq_translation_tutorial.html\n",
    "\n",
    "SOS_token = 0\n",
    "EOS_token = 1\n",
    "\n",
    "class Lang:\n",
    "    def __init__(self, name):\n",
    "        self.name = name\n",
    "        self.word2index = {}\n",
    "        self.word2count = {}\n",
    "        self.index2word = {0: \"SOS\", 1: \"EOS\"}\n",
    "        self.n_words = 2  # Count SOS and EOS\n",
    "\n",
    "    def addSentence(self, sentence):\n",
    "        for word in sentence.split(' '):\n",
    "            self.addWord(word)\n",
    "\n",
    "    def addWord(self, word):\n",
    "        if word not in self.word2index:\n",
    "            self.word2index[word] = self.n_words\n",
    "            self.word2count[word] = 1\n",
    "            self.index2word[self.n_words] = word\n",
    "            self.n_words += 1\n",
    "        else:\n",
    "            self.word2count[word] += 1\n",
    "\n",
    "def indexesFromSentence(lang, sentence):\n",
    "    return [lang.word2index[word] for word in sentence.split(' ')]\n",
    "\n",
    "\n",
    "def tensorFromSentence(lang, sentence):\n",
    "    indexes = indexesFromSentence(lang, sentence)\n",
    "    indexes.append(EOS_token)\n",
    "    return torch.tensor(indexes, dtype=torch.long).view(-1, 1)\n"
   ]
  },
  {
   "cell_type": "code",
   "execution_count": null,
   "metadata": {},
   "outputs": [],
   "source": [
    "#create our embedding of the data\n",
    "latex = Lang('latex')\n",
    "for label in labels.values():\n",
    "    latex.addWord(label)\n",
    "tensorFromSentence(latex, '\\\\sum')"
   ]
  },
  {
   "cell_type": "markdown",
   "metadata": {},
   "source": [
    "## Training the end-to-end system"
   ]
  },
  {
   "cell_type": "code",
   "execution_count": null,
   "metadata": {},
   "outputs": [],
   "source": [
    "net = CNN()\n",
    "encoder = Encoder(512, 256, 27*24, 11)\n",
    "decoder = Decoder(1,512, latex.n_words, 27*24, 11)"
   ]
  },
  {
   "cell_type": "code",
   "execution_count": null,
   "metadata": {},
   "outputs": [],
   "source": [
    "words = torch.zeros((3,11,1))\n",
    "for i,label in enumerate(labels.values()):\n",
    "    sentence = torch.cat((torch.tensor([[SOS_token]]),tensorFromSentence(latex, label)))\n",
    "    words[:,i,:] += sentence\n",
    "words.requires_grad = True"
   ]
  },
  {
   "cell_type": "code",
   "execution_count": null,
   "metadata": {},
   "outputs": [],
   "source": [
    "from endtoend import HME2LaTeX"
   ]
  },
  {
   "cell_type": "code",
   "execution_count": null,
   "metadata": {},
   "outputs": [],
   "source": [
    "model = HME2LaTeX(net, encoder, decoder, 3, 11, 10, 1, 0, 3)"
   ]
  },
  {
   "cell_type": "code",
   "execution_count": null,
   "metadata": {},
   "outputs": [],
   "source": [
    "optimizer = torch.optim.SGD(model.parameters(), lr=0.1)\n",
    "loss = torch.nn.CrossEntropyLoss() #should be cross entropy"
   ]
  },
  {
   "cell_type": "code",
   "execution_count": null,
   "metadata": {},
   "outputs": [],
   "source": [
    "for epoch in range(5):\n",
    "    optimizer.zero_grad()\n",
    "    probs = model(batch,words)\n",
    "    l = torch.zeros(1)\n",
    "    for i in range(3):\n",
    "        l += loss(probs[i].type(torch.float32), words[i].reshape((11)).type(torch.long))\n",
    "    l.backward()\n",
    "    optimizer.step()\n",
    "    print(l)"
   ]
  },
  {
   "cell_type": "code",
   "execution_count": null,
   "metadata": {},
   "outputs": [],
   "source": [
    "pred = model(batch,None)"
   ]
  },
  {
   "cell_type": "code",
   "execution_count": null,
   "metadata": {},
   "outputs": [],
   "source": [
    "pred.topk(1)[1].view(3,11).T"
   ]
  }
 ],
 "metadata": {
  "kernelspec": {
   "display_name": "Python 3.9.5 ('.venv': venv)",
   "language": "python",
   "name": "python3"
  },
  "language_info": {
   "codemirror_mode": {
    "name": "ipython",
    "version": 3
   },
   "file_extension": ".py",
   "mimetype": "text/x-python",
   "name": "python",
   "nbconvert_exporter": "python",
   "pygments_lexer": "ipython3",
   "version": "3.9.5"
  },
  "orig_nbformat": 4,
  "vscode": {
   "interpreter": {
    "hash": "6b50a1d762d4853fe27a86530a9bcdf85f59f22d585aca88e4f703f55ce46be5"
   }
  }
 },
 "nbformat": 4,
 "nbformat_minor": 2
}
