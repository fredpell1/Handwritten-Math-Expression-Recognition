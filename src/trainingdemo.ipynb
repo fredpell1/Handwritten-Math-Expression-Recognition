{
 "cells": [
  {
   "cell_type": "code",
   "execution_count": null,
   "metadata": {},
   "outputs": [],
   "source": [
    "import torch\n",
    "from torch.utils.data import DataLoader\n",
    "import matplotlib.pyplot as plt\n",
    "from model.cnn import CNN\n",
    "from model.encoder import Encoder\n",
    "from model.decoder import Decoder\n",
    "from model.endtoend import HME2LaTeX\n",
    "from data_processing.loadData import HMEDataset\n",
    "import pandas as pd"
   ]
  },
  {
   "cell_type": "code",
   "execution_count": null,
   "metadata": {},
   "outputs": [],
   "source": [
    "labels = '..\\\\data\\\\CROHME2016_data\\\\labels.csv'\n",
    "images = '..\\\\data\\\\CROHME2016_data\\\\formula_png'\n",
    "dataset = HMEDataset(labels, images, problem_type='formula')\n",
    "BATCH_SIZE = 10"
   ]
  },
  {
   "cell_type": "code",
   "execution_count": null,
   "metadata": {},
   "outputs": [],
   "source": [
    "REPLACEMENTS = [\n",
    "    ('(', '( '),\n",
    "    ('{', '{ '),\n",
    "    ('[', '[ '),\n",
    "    (')', ' )'),\n",
    "    ('}', ' }'),\n",
    "    (']', ' ]'),\n",
    "    ('=', ' = '),\n",
    "    ('+', ' + '),\n",
    "    ('-', ' - '),\n",
    "    ('^', ' ^ '),\n",
    "    ('*', ' * '),\n",
    "    ('$', ' $ '),\n",
    "    (',', ' , ')\n",
    "]\n",
    "\n",
    "def normalize(string, replacements):\n",
    "    for replacement in replacements:\n",
    "        string = string.replace(replacement[0], replacement[1])\n",
    "    return string\n"
   ]
  },
  {
   "cell_type": "code",
   "execution_count": null,
   "metadata": {},
   "outputs": [],
   "source": [
    "dataset.img_labels.iloc[:,1] = dataset.img_labels.iloc[:,1].apply(lambda x: normalize(x, REPLACEMENTS))"
   ]
  },
  {
   "cell_type": "code",
   "execution_count": null,
   "metadata": {},
   "outputs": [],
   "source": [
    "train_dataloader = DataLoader(dataset, BATCH_SIZE, shuffle=True)"
   ]
  },
  {
   "cell_type": "code",
   "execution_count": null,
   "metadata": {},
   "outputs": [],
   "source": [
    "#Below code is from https://pytorch.org/tutorials/intermediate/seq2seq_translation_tutorial.html\n",
    "\n",
    "SOS_token = 0\n",
    "EOS_token = 1\n",
    "\n",
    "class Lang:\n",
    "    def __init__(self, name):\n",
    "        self.name = name\n",
    "        self.word2index = {}\n",
    "        self.word2count = {}\n",
    "        self.index2word = {0: \"SOS\", 1: \"EOS\"}\n",
    "        self.n_words = 2  # Count SOS and EOS\n",
    "\n",
    "    def addSentence(self, sentence):\n",
    "        for word in sentence.split(' '):\n",
    "            self.addWord(word)\n",
    "\n",
    "    def addWord(self, word):\n",
    "        if word not in self.word2index:\n",
    "            self.word2index[word] = self.n_words\n",
    "            self.word2count[word] = 1\n",
    "            self.index2word[self.n_words] = word\n",
    "            self.n_words += 1\n",
    "        else:\n",
    "            self.word2count[word] += 1\n",
    "\n",
    "def indexesFromSentence(lang, sentence):\n",
    "    return [lang.word2index[word] for word in sentence.split(' ')]\n",
    "\n",
    "\n",
    "def tensorFromSentence(lang, sentence):\n",
    "    indexes = indexesFromSentence(lang, sentence)\n",
    "    indexes.append(EOS_token)\n",
    "    seq = [SOS_token]\n",
    "    seq.extend(indexes)\n",
    "    return torch.tensor(seq, dtype=torch.long).view(-1, 1)\n"
   ]
  },
  {
   "cell_type": "code",
   "execution_count": null,
   "metadata": {},
   "outputs": [],
   "source": [
    "latex = Lang('latex')\n",
    "for labels in dataset.img_labels.iloc[:,1]:\n",
    "    latex.addSentence(labels)"
   ]
  },
  {
   "cell_type": "code",
   "execution_count": null,
   "metadata": {},
   "outputs": [],
   "source": [
    "words = torch.nn.utils.rnn.pad_sequence([tensorFromSentence(latex,dataset.img_labels.iloc[i,1]) for i in range(len(dataset.img_labels))], padding_value=-1)"
   ]
  },
  {
   "cell_type": "code",
   "execution_count": null,
   "metadata": {},
   "outputs": [],
   "source": [
    "cnn = CNN()\n",
    "encoder = Encoder(512, 256, 27*24, BATCH_SIZE)\n",
    "decoder = Decoder(1, 512, latex.n_words,27*24,BATCH_SIZE)\n",
    "model  = HME2LaTeX(cnn, encoder, decoder,words.shape[0],BATCH_SIZE, latex.n_words, 1, 0, words.shape[0])"
   ]
  },
  {
   "cell_type": "code",
   "execution_count": null,
   "metadata": {},
   "outputs": [],
   "source": [
    "loss = torch.nn.CrossEntropyLoss()\n",
    "optimizer = torch.optim.SGD(model.parameters(), lr=0.1)"
   ]
  },
  {
   "cell_type": "code",
   "execution_count": null,
   "metadata": {},
   "outputs": [],
   "source": [
    "for epoch in range(1):\n",
    "    for img, labels, indices in train_dataloader:\n",
    "        optimizer.zero_grad()\n",
    "        pred = model(img.to(torch.float32), words[:,indices,:].to(torch.float32))\n",
    "        target = words[:,indices,:]\n",
    "        total_loss = torch.zeros(1)\n",
    "\n",
    "        for sample in range(BATCH_SIZE):\n",
    "            sentence = target[:,sample,:]\n",
    "            prob = pred[:,sample,:]\n",
    "            unpacked_sentence = sentence[sentence!=-1]\n",
    "            unpacked_prob = prob[:unpacked_sentence.shape[0],:]\n",
    "            l = loss(unpacked_prob[:-1,:], unpacked_sentence[1:].type(torch.long))\n",
    "            total_loss += l\n",
    "        total_loss.backward()\n",
    "        optimizer.step()\n",
    "        break"
   ]
  },
  {
   "cell_type": "code",
   "execution_count": null,
   "metadata": {},
   "outputs": [],
   "source": [
    "torch.save({\n",
    "    'model_state_dict' : model.state_dict(),\n",
    "    'optimizer_state_dict' : optimizer.state_dict(),\n",
    "    'loss': total_loss,\n",
    "    'data_loader': train_dataloader\n",
    "}, './trainedmodel.tar')"
   ]
  }
 ],
 "metadata": {
  "kernelspec": {
   "display_name": ".venv",
   "language": "python",
   "name": "python3"
  },
  "language_info": {
   "codemirror_mode": {
    "name": "ipython",
    "version": 3
   },
   "file_extension": ".py",
   "mimetype": "text/x-python",
   "name": "python",
   "nbconvert_exporter": "python",
   "pygments_lexer": "ipython3",
   "version": "3.9.5"
  },
  "orig_nbformat": 4,
  "vscode": {
   "interpreter": {
    "hash": "6b50a1d762d4853fe27a86530a9bcdf85f59f22d585aca88e4f703f55ce46be5"
   }
  }
 },
 "nbformat": 4,
 "nbformat_minor": 2
}
